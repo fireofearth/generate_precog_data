{
 "cells": [
  {
   "cell_type": "code",
   "execution_count": 1,
   "metadata": {},
   "outputs": [],
   "source": [
    "import carla\n",
    "import random\n",
    "import time\n",
    "import networkx as nx\n",
    "from functools import reduce\n",
    "\n",
    "import numpy as np\n",
    "import pandas as pd\n",
    "import generate.util as util\n",
    "HOST = '127.0.0.1'\n",
    "PORT = 2000"
   ]
  },
  {
   "cell_type": "code",
   "execution_count": 2,
   "metadata": {},
   "outputs": [],
   "source": [
    "client = carla.Client(HOST, PORT)\n",
    "\n",
    "\"\"\"Get the current world.\"\"\"\n",
    "carla_world = client.get_world()\n",
    "carla_map = carla_world.get_map()"
   ]
  },
  {
   "cell_type": "code",
   "execution_count": 12,
   "metadata": {},
   "outputs": [
    {
     "name": "stdout",
     "output_type": "stream",
     "text": [
      "{'Signal_3Light_Post01', 'Stencil_STOP', 'Speed_60', 'Speed_30', 'Speed_90'}\n",
      "{'274', '206', '1000001'}\n"
     ]
    }
   ],
   "source": [
    "## LANDMARKS\n",
    "# get all landmark names and IDs\n",
    "# traffic lights have names Signal_3Light_Post01\n",
    "landmark_names = set()\n",
    "landmark_types = set()\n",
    "\n",
    "for lm in carla_map.get_all_landmarks():\n",
    "    landmark_names.add(lm.name)\n",
    "    landmark_types.add(lm.type)\n",
    "print(landmark_names)\n",
    "print(landmark_types)"
   ]
  },
  {
   "cell_type": "code",
   "execution_count": 39,
   "metadata": {},
   "outputs": [
    {
     "data": {
      "text/plain": [
       "224.50999450683594"
      ]
     },
     "execution_count": 39,
     "metadata": {},
     "output_type": "execute_result"
    }
   ],
   "source": [
    "## TRAFFIC LIGHTS\n",
    "# getting traffic lights\n",
    "tlights = filter(lambda a: 'traffic_light' in a.type_id, carla_world.get_actors())\n"
   ]
  },
  {
   "cell_type": "code",
   "execution_count": 9,
   "metadata": {},
   "outputs": [
    {
     "name": "stdout",
     "output_type": "stream",
     "text": [
      "38 traffic lights in map\n",
      "31 unique junctions in map\n",
      "9 uncontrolled junctions\n"
     ]
    }
   ],
   "source": [
    "## TOPOLOGY and JUNCTION\n",
    "# select uncontrolled junctions (no traffic lights) by measuring proximity of junctions and traffic lights.\n",
    "tlights = util.filter_to_list(lambda a: 'traffic_light' in a.type_id,\n",
    "        carla_world.get_actors())\n",
    "topology = carla_map.get_topology()\n",
    "G = nx.Graph()\n",
    "G.add_edges_from(topology)\n",
    "junctions = util.get_junctions_from_topology_graph(G)\n",
    "print(len(tlights), \"traffic lights in map\")\n",
    "print(len(junctions), \"unique junctions in map\")\n",
    "\n",
    "tlight_distances = np.zeros((len(tlights), len(junctions),))\n",
    "f = lambda j: util.location_to_ndarray(j.bounding_box.location)\n",
    "junction_locations = util.map_to_ndarray(f, junctions)\n",
    "# print(junction_locations)\n",
    "f = lambda tl: util.transform_to_location_ndarray(\n",
    "        tl.get_transform())\n",
    "tlight_locations = util.map_to_ndarray(f, tlights)\n",
    "# print(tlight_locations)\n",
    "for idx, junction in enumerate(junctions):\n",
    "    tlight_distances[:,idx] = np.linalg.norm(tlight_locations - junction_locations[idx], axis=1)\n",
    "\n",
    "is_uncontrolled_junction = np.logical_not((tlight_distances < 25).any(axis=0))\n",
    "len(util.compress_to_list(junctions, is_uncontrolled_junction))\n",
    "uncontrolled_junctions = util.compress_to_list(junctions, uncontrolled_junction)\n",
    "print(len(uncontrolled_junctions), \"uncontrolled junctions\")"
   ]
  },
  {
   "cell_type": "code",
   "execution_count": null,
   "metadata": {},
   "outputs": [],
   "source": []
  },
  {
   "cell_type": "code",
   "execution_count": null,
   "metadata": {},
   "outputs": [],
   "source": []
  }
 ],
 "metadata": {
  "kernelspec": {
   "display_name": "Python 3",
   "language": "python",
   "name": "python3"
  },
  "language_info": {
   "codemirror_mode": {
    "name": "ipython",
    "version": 3
   },
   "file_extension": ".py",
   "mimetype": "text/x-python",
   "name": "python",
   "nbconvert_exporter": "python",
   "pygments_lexer": "ipython3",
   "version": "3.7.9"
  }
 },
 "nbformat": 4,
 "nbformat_minor": 4
}
